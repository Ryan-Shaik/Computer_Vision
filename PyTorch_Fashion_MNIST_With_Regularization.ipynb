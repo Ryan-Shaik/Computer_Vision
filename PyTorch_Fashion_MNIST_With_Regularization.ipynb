{
  "nbformat": 4,
  "nbformat_minor": 0,
  "metadata": {
    "colab": {
      "provenance": [],
      "gpuType": "T4",
      "authorship_tag": "ABX9TyPoT61+pZ2OiYqT/scW91eD",
      "include_colab_link": true
    },
    "kernelspec": {
      "name": "python3",
      "display_name": "Python 3"
    },
    "language_info": {
      "name": "python"
    },
    "accelerator": "GPU"
  },
  "cells": [
    {
      "cell_type": "markdown",
      "metadata": {
        "id": "view-in-github",
        "colab_type": "text"
      },
      "source": [
        "<a href=\"https://colab.research.google.com/github/Ryan-Shaik/search/blob/index.edit/PyTorch_Fashion_MNIST_With_Regularization.ipynb\" target=\"_parent\"><img src=\"https://colab.research.google.com/assets/colab-badge.svg\" alt=\"Open In Colab\"/></a>"
      ]
    },
    {
      "cell_type": "code",
      "execution_count": null,
      "metadata": {
        "id": "bnOI_wG_F_yy"
      },
      "outputs": [],
      "source": [
        "import torch\n",
        "import torch.nn as nn\n",
        "import torchvision\n",
        "import torchvision.transforms as transforms\n",
        "import torch.optim as optim\n",
        "import numpy as np\n",
        "import matplotlib.pyplot as plt\n",
        "import torch.nn.functional as F\n",
        "import PIL\n",
        "device = torch.device('cuda' if torch.cuda.is_available() else 'cpu')"
      ]
    },
    {
      "cell_type": "code",
      "source": [
        "data_transforms = {\n",
        "    \"train\": transforms.Compose([\n",
        "        # Note these are executed in the order they are called here\n",
        "        # Some of these returns a color image, so need to convert the images\n",
        "        transforms.RandomAffine(degrees = 10, translate = (0.05, 0.05), shear = 5),\n",
        "        transforms.ColorJitter(hue = .05, saturation = .05),\n",
        "        transforms.RandomHorizontalFlip(),\n",
        "        transforms.RandomRotation(15, interpolation=PIL.Image.BILINEAR),\n",
        "        transforms.Grayscale(num_output_channels=1),\n",
        "        transforms.ToTensor(),\n",
        "        transforms.Normalize((0.5,), (0.5,))\n",
        "    ]),\n",
        "\n",
        "    \"test\": transforms.Compose([\n",
        "        transforms.ToTensor(),\n",
        "        transforms.Normalize((0.5,), (0.5,))\n",
        "    ])\n",
        "}"
      ],
      "metadata": {
        "id": "uEyOkyDFGYoG"
      },
      "execution_count": null,
      "outputs": []
    },
    {
      "cell_type": "markdown",
      "source": [
        "### Get Dataloader"
      ],
      "metadata": {
        "id": "RhSyQE1xGlW6"
      }
    },
    {
      "cell_type": "code",
      "source": [
        "trainset = torchvision.datasets.FashionMNIST(\n",
        "    root = \"./data\",\n",
        "    train = True,\n",
        "    download = True,\n",
        "    transform = data_transforms[\"train\"]\n",
        ")\n",
        "\n",
        "testset = torchvision.datasets.FashionMNIST(\n",
        "    root = \"./data\",\n",
        "    train = False,\n",
        "    download = True,\n",
        "    transform = data_transforms[\"test\"]\n",
        "\n",
        ")\n",
        "\n",
        "trainloader = torch.utils.data.DataLoader(\n",
        "    trainset,\n",
        "    batch_size = 32,\n",
        "    shuffle = True,\n",
        "    num_workers = 2\n",
        ")\n",
        "\n",
        "testloader = torch.utils.data.DataLoader(\n",
        "    testset,\n",
        "    batch_size = 32,\n",
        "    shuffle = False,\n",
        "    num_workers = 2\n",
        "\n",
        ")"
      ],
      "metadata": {
        "colab": {
          "base_uri": "https://localhost:8080/"
        },
        "id": "FLyC4xKvGcI4",
        "outputId": "b2f4916d-89fb-4441-fcbd-0d94f69c893c"
      },
      "execution_count": null,
      "outputs": [
        {
          "output_type": "stream",
          "name": "stdout",
          "text": [
            "Downloading http://fashion-mnist.s3-website.eu-central-1.amazonaws.com/train-images-idx3-ubyte.gz\n",
            "Downloading http://fashion-mnist.s3-website.eu-central-1.amazonaws.com/train-images-idx3-ubyte.gz to ./data/FashionMNIST/raw/train-images-idx3-ubyte.gz\n"
          ]
        },
        {
          "output_type": "stream",
          "name": "stderr",
          "text": [
            "100%|██████████| 26421880/26421880 [00:02<00:00, 10671631.90it/s]\n"
          ]
        },
        {
          "output_type": "stream",
          "name": "stdout",
          "text": [
            "Extracting ./data/FashionMNIST/raw/train-images-idx3-ubyte.gz to ./data/FashionMNIST/raw\n",
            "\n",
            "Downloading http://fashion-mnist.s3-website.eu-central-1.amazonaws.com/train-labels-idx1-ubyte.gz\n",
            "Downloading http://fashion-mnist.s3-website.eu-central-1.amazonaws.com/train-labels-idx1-ubyte.gz to ./data/FashionMNIST/raw/train-labels-idx1-ubyte.gz\n"
          ]
        },
        {
          "output_type": "stream",
          "name": "stderr",
          "text": [
            "100%|██████████| 29515/29515 [00:00<00:00, 218548.59it/s]\n"
          ]
        },
        {
          "output_type": "stream",
          "name": "stdout",
          "text": [
            "Extracting ./data/FashionMNIST/raw/train-labels-idx1-ubyte.gz to ./data/FashionMNIST/raw\n",
            "\n",
            "Downloading http://fashion-mnist.s3-website.eu-central-1.amazonaws.com/t10k-images-idx3-ubyte.gz\n",
            "Downloading http://fashion-mnist.s3-website.eu-central-1.amazonaws.com/t10k-images-idx3-ubyte.gz to ./data/FashionMNIST/raw/t10k-images-idx3-ubyte.gz\n"
          ]
        },
        {
          "output_type": "stream",
          "name": "stderr",
          "text": [
            "100%|██████████| 4422102/4422102 [00:06<00:00, 698397.43it/s] \n"
          ]
        },
        {
          "output_type": "stream",
          "name": "stdout",
          "text": [
            "Extracting ./data/FashionMNIST/raw/t10k-images-idx3-ubyte.gz to ./data/FashionMNIST/raw\n",
            "\n",
            "Downloading http://fashion-mnist.s3-website.eu-central-1.amazonaws.com/t10k-labels-idx1-ubyte.gz\n",
            "Downloading http://fashion-mnist.s3-website.eu-central-1.amazonaws.com/t10k-labels-idx1-ubyte.gz to ./data/FashionMNIST/raw/t10k-labels-idx1-ubyte.gz\n"
          ]
        },
        {
          "output_type": "stream",
          "name": "stderr",
          "text": [
            "100%|██████████| 5148/5148 [00:00<00:00, 15783828.21it/s]"
          ]
        },
        {
          "output_type": "stream",
          "name": "stdout",
          "text": [
            "Extracting ./data/FashionMNIST/raw/t10k-labels-idx1-ubyte.gz to ./data/FashionMNIST/raw\n",
            "\n"
          ]
        },
        {
          "output_type": "stream",
          "name": "stderr",
          "text": [
            "\n"
          ]
        }
      ]
    },
    {
      "cell_type": "code",
      "source": [
        "class Net(nn.Module):\n",
        "    def __init__(self):\n",
        "        super(Net, self).__init__()\n",
        "        self.conv1 = nn.Conv2d(1, 32, 3)\n",
        "        # Adding BatchNorm using 32 as the input since 32 was the output of conv1\n",
        "        self.conv1_bn = nn.BatchNorm2d(32)\n",
        "        self.conv2 = nn.Conv2d(32, 64,3)\n",
        "        self.conv2_bn = nn.BatchNorm2d(64)\n",
        "        self.pool = nn.MaxPool2d(2,2)\n",
        "        self.fc1 = nn.Linear(64 * 12 * 12, 128)\n",
        "        self.fc2 = nn.Linear(128, 10)\n",
        "        self.dropout = nn.Dropout(0.2)\n",
        "\n",
        "    def forward(self,x):\n",
        "        x = F.relu(self.conv1_bn(self.conv1(x)))\n",
        "        x = self.dropout(x)\n",
        "        x = self.dropout(F.relu(self.conv2_bn(self.conv2(x))))\n",
        "\n",
        "        x = self.pool(x)\n",
        "        x = x.view(-1,64 * 12 * 12)\n",
        "        x = F.relu(self.fc1(x))\n",
        "        x = self.fc2(x)\n",
        "        return x\n",
        "\n",
        "net = Net()\n",
        "net.to(device)\n"
      ],
      "metadata": {
        "colab": {
          "base_uri": "https://localhost:8080/"
        },
        "id": "pkwYUhG3GkG7",
        "outputId": "00e6bd3a-bd3a-4770-b544-76c824209a0f"
      },
      "execution_count": null,
      "outputs": [
        {
          "output_type": "execute_result",
          "data": {
            "text/plain": [
              "Net(\n",
              "  (conv1): Conv2d(1, 32, kernel_size=(3, 3), stride=(1, 1))\n",
              "  (conv1_bn): BatchNorm2d(32, eps=1e-05, momentum=0.1, affine=True, track_running_stats=True)\n",
              "  (conv2): Conv2d(32, 64, kernel_size=(3, 3), stride=(1, 1))\n",
              "  (conv2_bn): BatchNorm2d(64, eps=1e-05, momentum=0.1, affine=True, track_running_stats=True)\n",
              "  (pool): MaxPool2d(kernel_size=2, stride=2, padding=0, dilation=1, ceil_mode=False)\n",
              "  (fc1): Linear(in_features=9216, out_features=128, bias=True)\n",
              "  (fc2): Linear(in_features=128, out_features=10, bias=True)\n",
              "  (dropout): Dropout(p=0.2, inplace=False)\n",
              ")"
            ]
          },
          "metadata": {},
          "execution_count": 4
        }
      ]
    },
    {
      "cell_type": "markdown",
      "source": [
        "Adding L2 Regularisation"
      ],
      "metadata": {
        "id": "V5l8I6sqGuLt"
      }
    },
    {
      "cell_type": "code",
      "source": [
        "import torch.optim as optim\n",
        "loss_fn = nn.CrossEntropyLoss()\n",
        "optimizer = optim.SGD(net.parameters(), lr = 0.001, momentum=0.9, weight_decay=0.001)"
      ],
      "metadata": {
        "id": "_20o4g2pGqdp"
      },
      "execution_count": null,
      "outputs": []
    },
    {
      "cell_type": "code",
      "source": [
        "epoch_log = []\n",
        "loss_log = []\n",
        "accuracy_log = []\n",
        "epochs = 15\n",
        "\n",
        "for epoch in range(epochs):\n",
        "    print(f\"Starting Epoch: {epoch + 1}\")\n",
        "\n",
        "    running_loss = 0.0\n",
        "\n",
        "    # iterate through trainloader\n",
        "    # Each cycle is a mini batch\n",
        "    for i, data in enumerate(trainloader,0):\n",
        "        inputs, labels = data\n",
        "\n",
        "        inputs, labels = inputs.to(device), labels.to(device)\n",
        "\n",
        "        optimizer.zero_grad()\n",
        "\n",
        "        net.train()\n",
        "        outputs = net(inputs)\n",
        "        loss = loss_fn(outputs, labels)\n",
        "        loss.backward()\n",
        "        optimizer.step()\n",
        "\n",
        "        running_loss += loss.item()\n",
        "\n",
        "        if i % 100 == 90: # Show loss after every 50-mini-batches\n",
        "            correct = 0 # Initializing variable to hold the count for the correct predictions\n",
        "            total = 0 # Initializing variable to hold the count of the number of labels iterated\n",
        "\n",
        "\n",
        "            net.eval()\n",
        "            # we dont need gradient for validation so wrap in\n",
        "            # inference_mode to save memory\n",
        "            with torch.inference_mode():\n",
        "                for data in testloader:\n",
        "                    images, labels = data\n",
        "                    images, labels = images.to(device), labels.to(device)\n",
        "\n",
        "                    # Forward propagate test batch through out model\n",
        "                    outputs = net(images)\n",
        "\n",
        "                    # Get predictions from the max value\n",
        "                    _, predicted = torch.max(outputs.data, 1)\n",
        "\n",
        "                    # Keep adding the label size to the total variable\n",
        "                    total += labels.size(0)\n",
        "                    # Keep running a total number of prediction predicted correctly\n",
        "                    correct += (predicted == labels).sum().item()\n",
        "\n",
        "                accuracy = 100 * correct/total\n",
        "                epoch_num = epoch + 1\n",
        "                actual_loss = running_loss / 50\n",
        "                print(f\"Epoch: {epoch_num}, Mini-Batches Completed {(i + 1)}, Loss: {actual_loss:.3f}, Test_accuracy: {accuracy:.3f}\")\n",
        "                running_loss = 0.0\n",
        "\n",
        "    # Store training stats after each epochs\n",
        "    epoch_log.append(epoch_num)\n",
        "    loss_log.append(actual_loss)\n",
        "    accuracy_log.append(accuracy)\n",
        "\n"
      ],
      "metadata": {
        "colab": {
          "base_uri": "https://localhost:8080/"
        },
        "id": "fKDEPdVsGtpF",
        "outputId": "f8f82903-c021-4a97-bd9b-10fa084860bc"
      },
      "execution_count": null,
      "outputs": [
        {
          "output_type": "stream",
          "name": "stdout",
          "text": [
            "Starting Epoch: 1\n",
            "Epoch: 1, Mini-Batches Completed 91, Loss: 2.254, Test_accuracy: 69.860\n",
            "Epoch: 1, Mini-Batches Completed 191, Loss: 1.583, Test_accuracy: 73.670\n",
            "Epoch: 1, Mini-Batches Completed 291, Loss: 1.426, Test_accuracy: 75.200\n",
            "Epoch: 1, Mini-Batches Completed 391, Loss: 1.471, Test_accuracy: 76.690\n",
            "Epoch: 1, Mini-Batches Completed 491, Loss: 1.429, Test_accuracy: 76.820\n",
            "Epoch: 1, Mini-Batches Completed 591, Loss: 1.329, Test_accuracy: 78.560\n",
            "Epoch: 1, Mini-Batches Completed 691, Loss: 1.250, Test_accuracy: 78.550\n",
            "Epoch: 1, Mini-Batches Completed 791, Loss: 1.266, Test_accuracy: 79.090\n",
            "Epoch: 1, Mini-Batches Completed 891, Loss: 1.266, Test_accuracy: 79.080\n",
            "Epoch: 1, Mini-Batches Completed 991, Loss: 1.213, Test_accuracy: 78.940\n",
            "Epoch: 1, Mini-Batches Completed 1091, Loss: 1.227, Test_accuracy: 81.000\n",
            "Epoch: 1, Mini-Batches Completed 1191, Loss: 1.106, Test_accuracy: 81.010\n",
            "Epoch: 1, Mini-Batches Completed 1291, Loss: 1.174, Test_accuracy: 81.560\n",
            "Epoch: 1, Mini-Batches Completed 1391, Loss: 1.158, Test_accuracy: 81.830\n",
            "Epoch: 1, Mini-Batches Completed 1491, Loss: 1.129, Test_accuracy: 80.080\n",
            "Epoch: 1, Mini-Batches Completed 1591, Loss: 1.133, Test_accuracy: 79.890\n",
            "Epoch: 1, Mini-Batches Completed 1691, Loss: 1.099, Test_accuracy: 81.600\n",
            "Epoch: 1, Mini-Batches Completed 1791, Loss: 1.115, Test_accuracy: 81.990\n",
            "Starting Epoch: 2\n",
            "Epoch: 2, Mini-Batches Completed 91, Loss: 0.928, Test_accuracy: 80.750\n",
            "Epoch: 2, Mini-Batches Completed 191, Loss: 1.023, Test_accuracy: 82.490\n",
            "Epoch: 2, Mini-Batches Completed 291, Loss: 1.035, Test_accuracy: 83.610\n",
            "Epoch: 2, Mini-Batches Completed 391, Loss: 1.014, Test_accuracy: 81.350\n",
            "Epoch: 2, Mini-Batches Completed 491, Loss: 1.061, Test_accuracy: 82.880\n",
            "Epoch: 2, Mini-Batches Completed 591, Loss: 1.022, Test_accuracy: 82.840\n",
            "Epoch: 2, Mini-Batches Completed 691, Loss: 1.025, Test_accuracy: 83.590\n",
            "Epoch: 2, Mini-Batches Completed 791, Loss: 1.046, Test_accuracy: 83.960\n",
            "Epoch: 2, Mini-Batches Completed 891, Loss: 0.994, Test_accuracy: 83.770\n",
            "Epoch: 2, Mini-Batches Completed 991, Loss: 1.017, Test_accuracy: 83.410\n",
            "Epoch: 2, Mini-Batches Completed 1091, Loss: 0.960, Test_accuracy: 83.950\n",
            "Epoch: 2, Mini-Batches Completed 1191, Loss: 0.975, Test_accuracy: 81.010\n",
            "Epoch: 2, Mini-Batches Completed 1291, Loss: 0.916, Test_accuracy: 84.310\n",
            "Epoch: 2, Mini-Batches Completed 1391, Loss: 1.009, Test_accuracy: 84.260\n",
            "Epoch: 2, Mini-Batches Completed 1491, Loss: 1.007, Test_accuracy: 84.590\n",
            "Epoch: 2, Mini-Batches Completed 1591, Loss: 0.940, Test_accuracy: 78.850\n",
            "Epoch: 2, Mini-Batches Completed 1691, Loss: 1.005, Test_accuracy: 84.960\n",
            "Epoch: 2, Mini-Batches Completed 1791, Loss: 0.964, Test_accuracy: 85.440\n",
            "Starting Epoch: 3\n",
            "Epoch: 3, Mini-Batches Completed 91, Loss: 0.838, Test_accuracy: 85.420\n",
            "Epoch: 3, Mini-Batches Completed 191, Loss: 0.951, Test_accuracy: 85.240\n",
            "Epoch: 3, Mini-Batches Completed 291, Loss: 0.963, Test_accuracy: 83.490\n",
            "Epoch: 3, Mini-Batches Completed 391, Loss: 0.951, Test_accuracy: 85.510\n",
            "Epoch: 3, Mini-Batches Completed 491, Loss: 0.907, Test_accuracy: 85.470\n",
            "Epoch: 3, Mini-Batches Completed 591, Loss: 0.894, Test_accuracy: 85.470\n",
            "Epoch: 3, Mini-Batches Completed 691, Loss: 0.890, Test_accuracy: 85.170\n",
            "Epoch: 3, Mini-Batches Completed 791, Loss: 0.924, Test_accuracy: 84.830\n",
            "Epoch: 3, Mini-Batches Completed 891, Loss: 0.903, Test_accuracy: 85.390\n",
            "Epoch: 3, Mini-Batches Completed 991, Loss: 0.912, Test_accuracy: 84.750\n",
            "Epoch: 3, Mini-Batches Completed 1091, Loss: 0.887, Test_accuracy: 85.670\n",
            "Epoch: 3, Mini-Batches Completed 1191, Loss: 0.874, Test_accuracy: 85.310\n",
            "Epoch: 3, Mini-Batches Completed 1291, Loss: 0.865, Test_accuracy: 85.300\n",
            "Epoch: 3, Mini-Batches Completed 1391, Loss: 0.942, Test_accuracy: 85.860\n",
            "Epoch: 3, Mini-Batches Completed 1491, Loss: 0.886, Test_accuracy: 86.300\n",
            "Epoch: 3, Mini-Batches Completed 1591, Loss: 0.875, Test_accuracy: 86.060\n",
            "Epoch: 3, Mini-Batches Completed 1691, Loss: 0.844, Test_accuracy: 85.560\n",
            "Epoch: 3, Mini-Batches Completed 1791, Loss: 0.864, Test_accuracy: 86.460\n",
            "Starting Epoch: 4\n",
            "Epoch: 4, Mini-Batches Completed 91, Loss: 0.777, Test_accuracy: 86.210\n",
            "Epoch: 4, Mini-Batches Completed 191, Loss: 0.827, Test_accuracy: 86.440\n",
            "Epoch: 4, Mini-Batches Completed 291, Loss: 0.862, Test_accuracy: 86.820\n",
            "Epoch: 4, Mini-Batches Completed 391, Loss: 0.912, Test_accuracy: 85.670\n",
            "Epoch: 4, Mini-Batches Completed 491, Loss: 0.885, Test_accuracy: 85.620\n",
            "Epoch: 4, Mini-Batches Completed 591, Loss: 0.893, Test_accuracy: 86.390\n",
            "Epoch: 4, Mini-Batches Completed 691, Loss: 0.845, Test_accuracy: 86.660\n",
            "Epoch: 4, Mini-Batches Completed 791, Loss: 0.807, Test_accuracy: 85.640\n",
            "Epoch: 4, Mini-Batches Completed 891, Loss: 0.894, Test_accuracy: 86.180\n",
            "Epoch: 4, Mini-Batches Completed 991, Loss: 0.891, Test_accuracy: 86.240\n",
            "Epoch: 4, Mini-Batches Completed 1091, Loss: 0.831, Test_accuracy: 86.420\n",
            "Epoch: 4, Mini-Batches Completed 1191, Loss: 0.766, Test_accuracy: 87.350\n",
            "Epoch: 4, Mini-Batches Completed 1291, Loss: 0.807, Test_accuracy: 85.670\n",
            "Epoch: 4, Mini-Batches Completed 1391, Loss: 0.867, Test_accuracy: 87.090\n",
            "Epoch: 4, Mini-Batches Completed 1491, Loss: 0.837, Test_accuracy: 87.600\n",
            "Epoch: 4, Mini-Batches Completed 1591, Loss: 0.798, Test_accuracy: 86.830\n",
            "Epoch: 4, Mini-Batches Completed 1691, Loss: 0.814, Test_accuracy: 87.230\n",
            "Epoch: 4, Mini-Batches Completed 1791, Loss: 0.787, Test_accuracy: 87.850\n",
            "Starting Epoch: 5\n",
            "Epoch: 5, Mini-Batches Completed 91, Loss: 0.721, Test_accuracy: 86.870\n",
            "Epoch: 5, Mini-Batches Completed 191, Loss: 0.849, Test_accuracy: 86.990\n",
            "Epoch: 5, Mini-Batches Completed 291, Loss: 0.777, Test_accuracy: 86.480\n",
            "Epoch: 5, Mini-Batches Completed 391, Loss: 0.805, Test_accuracy: 87.490\n",
            "Epoch: 5, Mini-Batches Completed 491, Loss: 0.804, Test_accuracy: 87.390\n",
            "Epoch: 5, Mini-Batches Completed 591, Loss: 0.811, Test_accuracy: 86.990\n",
            "Epoch: 5, Mini-Batches Completed 691, Loss: 0.824, Test_accuracy: 87.150\n",
            "Epoch: 5, Mini-Batches Completed 791, Loss: 0.771, Test_accuracy: 87.050\n",
            "Epoch: 5, Mini-Batches Completed 891, Loss: 0.769, Test_accuracy: 86.880\n",
            "Epoch: 5, Mini-Batches Completed 991, Loss: 0.801, Test_accuracy: 86.990\n",
            "Epoch: 5, Mini-Batches Completed 1091, Loss: 0.782, Test_accuracy: 87.190\n",
            "Epoch: 5, Mini-Batches Completed 1191, Loss: 0.748, Test_accuracy: 87.820\n",
            "Epoch: 5, Mini-Batches Completed 1291, Loss: 0.806, Test_accuracy: 87.160\n",
            "Epoch: 5, Mini-Batches Completed 1391, Loss: 0.836, Test_accuracy: 87.470\n",
            "Epoch: 5, Mini-Batches Completed 1491, Loss: 0.797, Test_accuracy: 86.130\n",
            "Epoch: 5, Mini-Batches Completed 1591, Loss: 0.789, Test_accuracy: 86.990\n",
            "Epoch: 5, Mini-Batches Completed 1691, Loss: 0.837, Test_accuracy: 87.100\n",
            "Epoch: 5, Mini-Batches Completed 1791, Loss: 0.737, Test_accuracy: 87.500\n",
            "Starting Epoch: 6\n",
            "Epoch: 6, Mini-Batches Completed 91, Loss: 0.699, Test_accuracy: 87.340\n",
            "Epoch: 6, Mini-Batches Completed 191, Loss: 0.787, Test_accuracy: 87.630\n",
            "Epoch: 6, Mini-Batches Completed 291, Loss: 0.774, Test_accuracy: 87.870\n",
            "Epoch: 6, Mini-Batches Completed 391, Loss: 0.780, Test_accuracy: 87.490\n",
            "Epoch: 6, Mini-Batches Completed 491, Loss: 0.745, Test_accuracy: 87.350\n",
            "Epoch: 6, Mini-Batches Completed 591, Loss: 0.773, Test_accuracy: 87.320\n",
            "Epoch: 6, Mini-Batches Completed 691, Loss: 0.756, Test_accuracy: 87.020\n",
            "Epoch: 6, Mini-Batches Completed 791, Loss: 0.752, Test_accuracy: 87.510\n",
            "Epoch: 6, Mini-Batches Completed 891, Loss: 0.800, Test_accuracy: 87.420\n",
            "Epoch: 6, Mini-Batches Completed 991, Loss: 0.726, Test_accuracy: 88.310\n",
            "Epoch: 6, Mini-Batches Completed 1091, Loss: 0.760, Test_accuracy: 87.520\n",
            "Epoch: 6, Mini-Batches Completed 1191, Loss: 0.785, Test_accuracy: 86.110\n",
            "Epoch: 6, Mini-Batches Completed 1291, Loss: 0.769, Test_accuracy: 87.750\n",
            "Epoch: 6, Mini-Batches Completed 1391, Loss: 0.732, Test_accuracy: 87.980\n",
            "Epoch: 6, Mini-Batches Completed 1491, Loss: 0.768, Test_accuracy: 88.100\n",
            "Epoch: 6, Mini-Batches Completed 1591, Loss: 0.734, Test_accuracy: 87.840\n",
            "Epoch: 6, Mini-Batches Completed 1691, Loss: 0.744, Test_accuracy: 87.240\n",
            "Epoch: 6, Mini-Batches Completed 1791, Loss: 0.774, Test_accuracy: 88.190\n",
            "Starting Epoch: 7\n",
            "Epoch: 7, Mini-Batches Completed 91, Loss: 0.650, Test_accuracy: 87.110\n",
            "Epoch: 7, Mini-Batches Completed 191, Loss: 0.730, Test_accuracy: 87.880\n",
            "Epoch: 7, Mini-Batches Completed 291, Loss: 0.729, Test_accuracy: 87.350\n",
            "Epoch: 7, Mini-Batches Completed 391, Loss: 0.772, Test_accuracy: 86.630\n",
            "Epoch: 7, Mini-Batches Completed 491, Loss: 0.796, Test_accuracy: 88.460\n",
            "Epoch: 7, Mini-Batches Completed 591, Loss: 0.748, Test_accuracy: 87.960\n",
            "Epoch: 7, Mini-Batches Completed 691, Loss: 0.748, Test_accuracy: 87.220\n",
            "Epoch: 7, Mini-Batches Completed 791, Loss: 0.710, Test_accuracy: 87.570\n",
            "Epoch: 7, Mini-Batches Completed 891, Loss: 0.754, Test_accuracy: 87.830\n",
            "Epoch: 7, Mini-Batches Completed 991, Loss: 0.733, Test_accuracy: 88.200\n",
            "Epoch: 7, Mini-Batches Completed 1091, Loss: 0.718, Test_accuracy: 87.940\n",
            "Epoch: 7, Mini-Batches Completed 1191, Loss: 0.725, Test_accuracy: 87.810\n",
            "Epoch: 7, Mini-Batches Completed 1291, Loss: 0.766, Test_accuracy: 87.060\n",
            "Epoch: 7, Mini-Batches Completed 1391, Loss: 0.757, Test_accuracy: 87.980\n",
            "Epoch: 7, Mini-Batches Completed 1491, Loss: 0.743, Test_accuracy: 87.920\n",
            "Epoch: 7, Mini-Batches Completed 1591, Loss: 0.695, Test_accuracy: 88.160\n",
            "Epoch: 7, Mini-Batches Completed 1691, Loss: 0.755, Test_accuracy: 87.780\n",
            "Epoch: 7, Mini-Batches Completed 1791, Loss: 0.703, Test_accuracy: 87.960\n",
            "Starting Epoch: 8\n",
            "Epoch: 8, Mini-Batches Completed 91, Loss: 0.679, Test_accuracy: 87.580\n",
            "Epoch: 8, Mini-Batches Completed 191, Loss: 0.708, Test_accuracy: 88.230\n",
            "Epoch: 8, Mini-Batches Completed 291, Loss: 0.657, Test_accuracy: 87.740\n",
            "Epoch: 8, Mini-Batches Completed 391, Loss: 0.714, Test_accuracy: 87.560\n",
            "Epoch: 8, Mini-Batches Completed 491, Loss: 0.731, Test_accuracy: 88.120\n",
            "Epoch: 8, Mini-Batches Completed 591, Loss: 0.704, Test_accuracy: 88.130\n",
            "Epoch: 8, Mini-Batches Completed 691, Loss: 0.719, Test_accuracy: 88.620\n",
            "Epoch: 8, Mini-Batches Completed 791, Loss: 0.734, Test_accuracy: 87.980\n",
            "Epoch: 8, Mini-Batches Completed 891, Loss: 0.736, Test_accuracy: 88.010\n",
            "Epoch: 8, Mini-Batches Completed 991, Loss: 0.646, Test_accuracy: 88.340\n",
            "Epoch: 8, Mini-Batches Completed 1091, Loss: 0.710, Test_accuracy: 88.200\n",
            "Epoch: 8, Mini-Batches Completed 1191, Loss: 0.750, Test_accuracy: 88.460\n",
            "Epoch: 8, Mini-Batches Completed 1291, Loss: 0.712, Test_accuracy: 87.930\n",
            "Epoch: 8, Mini-Batches Completed 1391, Loss: 0.770, Test_accuracy: 87.970\n",
            "Epoch: 8, Mini-Batches Completed 1491, Loss: 0.714, Test_accuracy: 87.900\n",
            "Epoch: 8, Mini-Batches Completed 1591, Loss: 0.750, Test_accuracy: 88.240\n",
            "Epoch: 8, Mini-Batches Completed 1691, Loss: 0.712, Test_accuracy: 88.850\n",
            "Epoch: 8, Mini-Batches Completed 1791, Loss: 0.764, Test_accuracy: 88.420\n",
            "Starting Epoch: 9\n",
            "Epoch: 9, Mini-Batches Completed 91, Loss: 0.685, Test_accuracy: 86.180\n",
            "Epoch: 9, Mini-Batches Completed 191, Loss: 0.722, Test_accuracy: 88.180\n",
            "Epoch: 9, Mini-Batches Completed 291, Loss: 0.720, Test_accuracy: 88.650\n",
            "Epoch: 9, Mini-Batches Completed 391, Loss: 0.710, Test_accuracy: 88.430\n",
            "Epoch: 9, Mini-Batches Completed 491, Loss: 0.751, Test_accuracy: 88.170\n",
            "Epoch: 9, Mini-Batches Completed 591, Loss: 0.714, Test_accuracy: 88.420\n",
            "Epoch: 9, Mini-Batches Completed 691, Loss: 0.729, Test_accuracy: 88.380\n",
            "Epoch: 9, Mini-Batches Completed 791, Loss: 0.725, Test_accuracy: 88.200\n",
            "Epoch: 9, Mini-Batches Completed 891, Loss: 0.622, Test_accuracy: 88.380\n",
            "Epoch: 9, Mini-Batches Completed 991, Loss: 0.680, Test_accuracy: 88.870\n",
            "Epoch: 9, Mini-Batches Completed 1091, Loss: 0.715, Test_accuracy: 88.700\n",
            "Epoch: 9, Mini-Batches Completed 1191, Loss: 0.673, Test_accuracy: 87.940\n",
            "Epoch: 9, Mini-Batches Completed 1291, Loss: 0.666, Test_accuracy: 88.760\n",
            "Epoch: 9, Mini-Batches Completed 1391, Loss: 0.677, Test_accuracy: 88.630\n",
            "Epoch: 9, Mini-Batches Completed 1491, Loss: 0.718, Test_accuracy: 88.810\n",
            "Epoch: 9, Mini-Batches Completed 1591, Loss: 0.697, Test_accuracy: 88.490\n",
            "Epoch: 9, Mini-Batches Completed 1691, Loss: 0.680, Test_accuracy: 88.210\n",
            "Epoch: 9, Mini-Batches Completed 1791, Loss: 0.713, Test_accuracy: 88.490\n",
            "Starting Epoch: 10\n",
            "Epoch: 10, Mini-Batches Completed 91, Loss: 0.623, Test_accuracy: 88.680\n",
            "Epoch: 10, Mini-Batches Completed 191, Loss: 0.697, Test_accuracy: 88.930\n",
            "Epoch: 10, Mini-Batches Completed 291, Loss: 0.647, Test_accuracy: 88.850\n",
            "Epoch: 10, Mini-Batches Completed 391, Loss: 0.700, Test_accuracy: 88.580\n",
            "Epoch: 10, Mini-Batches Completed 491, Loss: 0.680, Test_accuracy: 88.850\n",
            "Epoch: 10, Mini-Batches Completed 591, Loss: 0.681, Test_accuracy: 88.810\n",
            "Epoch: 10, Mini-Batches Completed 691, Loss: 0.667, Test_accuracy: 88.690\n",
            "Epoch: 10, Mini-Batches Completed 791, Loss: 0.663, Test_accuracy: 88.720\n",
            "Epoch: 10, Mini-Batches Completed 891, Loss: 0.701, Test_accuracy: 87.570\n",
            "Epoch: 10, Mini-Batches Completed 991, Loss: 0.673, Test_accuracy: 88.150\n",
            "Epoch: 10, Mini-Batches Completed 1091, Loss: 0.685, Test_accuracy: 87.750\n",
            "Epoch: 10, Mini-Batches Completed 1191, Loss: 0.696, Test_accuracy: 88.840\n",
            "Epoch: 10, Mini-Batches Completed 1291, Loss: 0.704, Test_accuracy: 87.400\n",
            "Epoch: 10, Mini-Batches Completed 1391, Loss: 0.712, Test_accuracy: 88.770\n",
            "Epoch: 10, Mini-Batches Completed 1491, Loss: 0.697, Test_accuracy: 88.000\n",
            "Epoch: 10, Mini-Batches Completed 1591, Loss: 0.683, Test_accuracy: 88.590\n",
            "Epoch: 10, Mini-Batches Completed 1691, Loss: 0.687, Test_accuracy: 88.900\n",
            "Epoch: 10, Mini-Batches Completed 1791, Loss: 0.700, Test_accuracy: 89.030\n",
            "Starting Epoch: 11\n",
            "Epoch: 11, Mini-Batches Completed 91, Loss: 0.572, Test_accuracy: 88.960\n",
            "Epoch: 11, Mini-Batches Completed 191, Loss: 0.647, Test_accuracy: 89.240\n",
            "Epoch: 11, Mini-Batches Completed 291, Loss: 0.691, Test_accuracy: 88.870\n",
            "Epoch: 11, Mini-Batches Completed 391, Loss: 0.673, Test_accuracy: 88.990\n",
            "Epoch: 11, Mini-Batches Completed 491, Loss: 0.641, Test_accuracy: 87.990\n",
            "Epoch: 11, Mini-Batches Completed 591, Loss: 0.659, Test_accuracy: 88.010\n",
            "Epoch: 11, Mini-Batches Completed 691, Loss: 0.684, Test_accuracy: 88.090\n",
            "Epoch: 11, Mini-Batches Completed 791, Loss: 0.659, Test_accuracy: 87.740\n",
            "Epoch: 11, Mini-Batches Completed 891, Loss: 0.693, Test_accuracy: 88.930\n",
            "Epoch: 11, Mini-Batches Completed 991, Loss: 0.689, Test_accuracy: 88.940\n",
            "Epoch: 11, Mini-Batches Completed 1091, Loss: 0.660, Test_accuracy: 88.510\n",
            "Epoch: 11, Mini-Batches Completed 1191, Loss: 0.668, Test_accuracy: 88.180\n",
            "Epoch: 11, Mini-Batches Completed 1291, Loss: 0.697, Test_accuracy: 88.390\n",
            "Epoch: 11, Mini-Batches Completed 1391, Loss: 0.674, Test_accuracy: 88.410\n",
            "Epoch: 11, Mini-Batches Completed 1491, Loss: 0.666, Test_accuracy: 89.310\n",
            "Epoch: 11, Mini-Batches Completed 1591, Loss: 0.635, Test_accuracy: 88.570\n",
            "Epoch: 11, Mini-Batches Completed 1691, Loss: 0.677, Test_accuracy: 89.510\n",
            "Epoch: 11, Mini-Batches Completed 1791, Loss: 0.640, Test_accuracy: 89.130\n",
            "Starting Epoch: 12\n",
            "Epoch: 12, Mini-Batches Completed 91, Loss: 0.627, Test_accuracy: 88.360\n",
            "Epoch: 12, Mini-Batches Completed 191, Loss: 0.637, Test_accuracy: 88.090\n",
            "Epoch: 12, Mini-Batches Completed 291, Loss: 0.689, Test_accuracy: 88.850\n",
            "Epoch: 12, Mini-Batches Completed 391, Loss: 0.683, Test_accuracy: 88.410\n",
            "Epoch: 12, Mini-Batches Completed 491, Loss: 0.652, Test_accuracy: 88.860\n",
            "Epoch: 12, Mini-Batches Completed 591, Loss: 0.614, Test_accuracy: 88.990\n",
            "Epoch: 12, Mini-Batches Completed 691, Loss: 0.646, Test_accuracy: 88.860\n",
            "Epoch: 12, Mini-Batches Completed 791, Loss: 0.637, Test_accuracy: 89.180\n",
            "Epoch: 12, Mini-Batches Completed 891, Loss: 0.660, Test_accuracy: 89.780\n",
            "Epoch: 12, Mini-Batches Completed 991, Loss: 0.686, Test_accuracy: 88.650\n",
            "Epoch: 12, Mini-Batches Completed 1091, Loss: 0.641, Test_accuracy: 89.430\n",
            "Epoch: 12, Mini-Batches Completed 1191, Loss: 0.665, Test_accuracy: 88.130\n",
            "Epoch: 12, Mini-Batches Completed 1291, Loss: 0.633, Test_accuracy: 89.110\n",
            "Epoch: 12, Mini-Batches Completed 1391, Loss: 0.618, Test_accuracy: 89.210\n",
            "Epoch: 12, Mini-Batches Completed 1491, Loss: 0.665, Test_accuracy: 89.210\n",
            "Epoch: 12, Mini-Batches Completed 1591, Loss: 0.671, Test_accuracy: 88.890\n",
            "Epoch: 12, Mini-Batches Completed 1691, Loss: 0.698, Test_accuracy: 89.680\n",
            "Epoch: 12, Mini-Batches Completed 1791, Loss: 0.642, Test_accuracy: 89.580\n",
            "Starting Epoch: 13\n",
            "Epoch: 13, Mini-Batches Completed 91, Loss: 0.600, Test_accuracy: 88.750\n",
            "Epoch: 13, Mini-Batches Completed 191, Loss: 0.656, Test_accuracy: 89.100\n",
            "Epoch: 13, Mini-Batches Completed 291, Loss: 0.618, Test_accuracy: 89.310\n",
            "Epoch: 13, Mini-Batches Completed 391, Loss: 0.648, Test_accuracy: 89.010\n",
            "Epoch: 13, Mini-Batches Completed 491, Loss: 0.657, Test_accuracy: 88.940\n",
            "Epoch: 13, Mini-Batches Completed 591, Loss: 0.676, Test_accuracy: 89.210\n",
            "Epoch: 13, Mini-Batches Completed 691, Loss: 0.695, Test_accuracy: 88.840\n",
            "Epoch: 13, Mini-Batches Completed 791, Loss: 0.654, Test_accuracy: 88.890\n",
            "Epoch: 13, Mini-Batches Completed 891, Loss: 0.613, Test_accuracy: 89.660\n",
            "Epoch: 13, Mini-Batches Completed 991, Loss: 0.611, Test_accuracy: 89.960\n",
            "Epoch: 13, Mini-Batches Completed 1091, Loss: 0.656, Test_accuracy: 89.480\n",
            "Epoch: 13, Mini-Batches Completed 1191, Loss: 0.659, Test_accuracy: 89.440\n",
            "Epoch: 13, Mini-Batches Completed 1291, Loss: 0.637, Test_accuracy: 89.420\n",
            "Epoch: 13, Mini-Batches Completed 1391, Loss: 0.604, Test_accuracy: 89.430\n",
            "Epoch: 13, Mini-Batches Completed 1491, Loss: 0.631, Test_accuracy: 89.240\n",
            "Epoch: 13, Mini-Batches Completed 1591, Loss: 0.634, Test_accuracy: 89.550\n",
            "Epoch: 13, Mini-Batches Completed 1691, Loss: 0.608, Test_accuracy: 89.620\n",
            "Epoch: 13, Mini-Batches Completed 1791, Loss: 0.632, Test_accuracy: 89.230\n",
            "Starting Epoch: 14\n",
            "Epoch: 14, Mini-Batches Completed 91, Loss: 0.587, Test_accuracy: 89.540\n",
            "Epoch: 14, Mini-Batches Completed 191, Loss: 0.589, Test_accuracy: 89.780\n",
            "Epoch: 14, Mini-Batches Completed 291, Loss: 0.586, Test_accuracy: 89.900\n",
            "Epoch: 14, Mini-Batches Completed 391, Loss: 0.624, Test_accuracy: 89.420\n",
            "Epoch: 14, Mini-Batches Completed 491, Loss: 0.640, Test_accuracy: 89.310\n",
            "Epoch: 14, Mini-Batches Completed 591, Loss: 0.676, Test_accuracy: 88.840\n",
            "Epoch: 14, Mini-Batches Completed 691, Loss: 0.626, Test_accuracy: 89.800\n",
            "Epoch: 14, Mini-Batches Completed 791, Loss: 0.625, Test_accuracy: 89.730\n",
            "Epoch: 14, Mini-Batches Completed 891, Loss: 0.642, Test_accuracy: 89.510\n",
            "Epoch: 14, Mini-Batches Completed 991, Loss: 0.649, Test_accuracy: 89.540\n",
            "Epoch: 14, Mini-Batches Completed 1091, Loss: 0.639, Test_accuracy: 89.600\n",
            "Epoch: 14, Mini-Batches Completed 1191, Loss: 0.609, Test_accuracy: 89.400\n",
            "Epoch: 14, Mini-Batches Completed 1291, Loss: 0.671, Test_accuracy: 89.340\n",
            "Epoch: 14, Mini-Batches Completed 1391, Loss: 0.639, Test_accuracy: 88.750\n",
            "Epoch: 14, Mini-Batches Completed 1491, Loss: 0.651, Test_accuracy: 89.370\n",
            "Epoch: 14, Mini-Batches Completed 1591, Loss: 0.657, Test_accuracy: 89.990\n",
            "Epoch: 14, Mini-Batches Completed 1691, Loss: 0.681, Test_accuracy: 89.220\n",
            "Epoch: 14, Mini-Batches Completed 1791, Loss: 0.638, Test_accuracy: 89.310\n",
            "Starting Epoch: 15\n",
            "Epoch: 15, Mini-Batches Completed 91, Loss: 0.566, Test_accuracy: 89.570\n",
            "Epoch: 15, Mini-Batches Completed 191, Loss: 0.681, Test_accuracy: 89.460\n",
            "Epoch: 15, Mini-Batches Completed 291, Loss: 0.636, Test_accuracy: 89.320\n",
            "Epoch: 15, Mini-Batches Completed 391, Loss: 0.638, Test_accuracy: 89.610\n",
            "Epoch: 15, Mini-Batches Completed 491, Loss: 0.613, Test_accuracy: 89.110\n",
            "Epoch: 15, Mini-Batches Completed 591, Loss: 0.631, Test_accuracy: 89.440\n",
            "Epoch: 15, Mini-Batches Completed 691, Loss: 0.603, Test_accuracy: 90.020\n",
            "Epoch: 15, Mini-Batches Completed 791, Loss: 0.635, Test_accuracy: 89.180\n",
            "Epoch: 15, Mini-Batches Completed 891, Loss: 0.649, Test_accuracy: 90.080\n",
            "Epoch: 15, Mini-Batches Completed 991, Loss: 0.646, Test_accuracy: 89.510\n",
            "Epoch: 15, Mini-Batches Completed 1091, Loss: 0.569, Test_accuracy: 89.910\n",
            "Epoch: 15, Mini-Batches Completed 1191, Loss: 0.617, Test_accuracy: 89.390\n",
            "Epoch: 15, Mini-Batches Completed 1291, Loss: 0.615, Test_accuracy: 90.080\n",
            "Epoch: 15, Mini-Batches Completed 1391, Loss: 0.654, Test_accuracy: 90.110\n",
            "Epoch: 15, Mini-Batches Completed 1491, Loss: 0.616, Test_accuracy: 90.100\n",
            "Epoch: 15, Mini-Batches Completed 1591, Loss: 0.619, Test_accuracy: 89.550\n",
            "Epoch: 15, Mini-Batches Completed 1691, Loss: 0.602, Test_accuracy: 89.540\n",
            "Epoch: 15, Mini-Batches Completed 1791, Loss: 0.625, Test_accuracy: 89.840\n"
          ]
        }
      ]
    },
    {
      "cell_type": "markdown",
      "source": [
        "### Model Accuracy"
      ],
      "metadata": {
        "id": "PMDIQBDkHXXt"
      }
    },
    {
      "cell_type": "code",
      "source": [
        "correct = 0\n",
        "total = 0\n",
        "with torch.inference_mode():\n",
        "    for data in testloader:\n",
        "        images, labels = data\n",
        "        images, labels = images.to(device), labels.to(device)\n",
        "        outputs = net(images)\n",
        "        _, predicted = torch.max(outputs.data,1)\n",
        "        total += labels.size(0)\n",
        "        correct += (predicted == labels).sum().item()\n",
        "\n",
        "accuracy =  100 * correct/total\n",
        "print(f\"Accuracy of model after training : {accuracy:.2f}%\")"
      ],
      "metadata": {
        "colab": {
          "base_uri": "https://localhost:8080/"
        },
        "id": "XUyQ_qqgGzs2",
        "outputId": "bd01cb8a-d537-495f-811d-ebdc6f8f6bf0"
      },
      "execution_count": null,
      "outputs": [
        {
          "output_type": "stream",
          "name": "stdout",
          "text": [
            "Accuracy of model after training : 89.39%\n"
          ]
        }
      ]
    },
    {
      "cell_type": "markdown",
      "source": [
        "### Training PLot"
      ],
      "metadata": {
        "id": "EEVSXYa5HagL"
      }
    },
    {
      "cell_type": "code",
      "source": [
        "fig, ax1 = plt.subplots()\n",
        "\n",
        "plt.title(\"Accuracy & Loss vs Epoch Mini-Batches\")\n",
        "plt.xticks(rotation=45)\n",
        "\n",
        "ax2 = ax1.twinx()\n",
        "\n",
        "ax1.plot(epoch_log, loss_log, \"g-\", label = \"Loss\")\n",
        "ax2.plot(epoch_log, accuracy_log, \"b-\", label = \"Accuracy\")\n",
        "\n",
        "ax1.set_xlabel(\"Epoch\")\n",
        "ax1.set_ylabel(\"Loss\", color = \"g\")\n",
        "ax2.set_ylabel(\"Accuracy\", color = \"b\")\n",
        "plt.show();"
      ],
      "metadata": {
        "colab": {
          "base_uri": "https://localhost:8080/",
          "height": 480
        },
        "id": "doeo3nROHeqS",
        "outputId": "8dba6930-d6b5-4bd1-e801-a567cbb82b7a"
      },
      "execution_count": null,
      "outputs": [
        {
          "output_type": "display_data",
          "data": {
            "text/plain": [
              "<Figure size 640x480 with 2 Axes>"
            ],
            "image/png": "[encoded data removed]"
          },
          "metadata": {}
        }
      ]
    },
    {
      "cell_type": "code",
      "source": [
        "PATH = \"./fashion_net.pth\"\n",
        "torch.save(net.state_dict(), PATH)"
      ],
      "metadata": {
        "id": "SOK8nagAHjGk"
      },
      "execution_count": null,
      "outputs": []
    },
    {
      "cell_type": "code",
      "source": [],
      "metadata": {
        "id": "lMZKTWvMOY_D"
      },
      "execution_count": null,
      "outputs": []
    }
  ]
}